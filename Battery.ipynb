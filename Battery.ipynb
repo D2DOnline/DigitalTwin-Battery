{
  "nbformat": 4,
  "nbformat_minor": 0,
  "metadata": {
    "colab": {
      "name": "Welcome To Colaboratory",
      "provenance": [],
      "collapsed_sections": [],
      "include_colab_link": true
    },
    "kernelspec": {
      "display_name": "Python 3",
      "name": "python3"
    }
  },
  "cells": [
    {
      "cell_type": "markdown",
      "metadata": {
        "id": "view-in-github",
        "colab_type": "text"
      },
      "source": [
        "<a href=\"https://colab.research.google.com/github/D2DOnline/DigitalTwin-Battery/blob/main/Battery.ipynb\" target=\"_parent\"><img src=\"https://colab.research.google.com/assets/colab-badge.svg\" alt=\"Open In Colab\"/></a>"
      ]
    },
    {
      "cell_type": "code",
      "metadata": {
        "id": "_5qTn_2KxyHN"
      },
      "source": [
        "!python --version"
      ],
      "execution_count": null,
      "outputs": []
    },
    {
      "cell_type": "code",
      "metadata": {
        "id": "J1_6U32Ax_t9"
      },
      "source": [
        "!pip list"
      ],
      "execution_count": null,
      "outputs": []
    },
    {
      "cell_type": "markdown",
      "metadata": {
        "id": "UpP0hDehyMnj"
      },
      "source": [
        "Read .csv file - Load dataset"
      ]
    },
    {
      "cell_type": "code",
      "metadata": {
        "id": "Yfekf8enydS-"
      },
      "source": [
        "from google.colab import files"
      ],
      "execution_count": 4,
      "outputs": []
    },
    {
      "cell_type": "code",
      "metadata": {
        "id": "L0nRaJbiyv86"
      },
      "source": [
        "files.upload()"
      ],
      "execution_count": null,
      "outputs": []
    },
    {
      "cell_type": "code",
      "metadata": {
        "id": "sYajHGbQ1M6Q",
        "outputId": "407203a6-7178-48a7-db7d-bbcbdb74d386",
        "colab": {
          "base_uri": "https://localhost:8080/"
        }
      },
      "source": [
        "!ls"
      ],
      "execution_count": 6,
      "outputs": [
        {
          "output_type": "stream",
          "text": [
            "discharge.csv  sample_data\n"
          ],
          "name": "stdout"
        }
      ]
    },
    {
      "cell_type": "code",
      "metadata": {
        "id": "fotdgfLHyKMq"
      },
      "source": [
        "import pandas as pd"
      ],
      "execution_count": 7,
      "outputs": []
    },
    {
      "cell_type": "code",
      "metadata": {
        "id": "wcd8A1fi04iB"
      },
      "source": [
        "df = pd.read_csv('discharge.csv')"
      ],
      "execution_count": 8,
      "outputs": []
    },
    {
      "cell_type": "code",
      "metadata": {
        "id": "5bSnYkDw1A3X"
      },
      "source": [
        "df.info()"
      ],
      "execution_count": null,
      "outputs": []
    },
    {
      "cell_type": "code",
      "metadata": {
        "id": "x1DS5YFM1ax5"
      },
      "source": [
        "df_B0005_TM = df[(df['Battery'] == 'B0005') & (df['Temperature_measured'] > 36)]"
      ],
      "execution_count": 23,
      "outputs": []
    },
    {
      "cell_type": "code",
      "metadata": {
        "id": "12TYn6hW1xs_"
      },
      "source": [
        "temp1 = df_B0005_TM[df_B0005_TM['id_cycle'] == 1]"
      ],
      "execution_count": 27,
      "outputs": []
    },
    {
      "cell_type": "code",
      "metadata": {
        "id": "Vp7Y3LBM5eE_"
      },
      "source": [
        "temp2 = temp1.iloc[:,0:3]\n",
        "temp2"
      ],
      "execution_count": null,
      "outputs": []
    },
    {
      "cell_type": "code",
      "metadata": {
        "id": "ff9_xOxk41RX"
      },
      "source": [
        "df_gp_id_cycle_max = df_B0005_TM.groupby('id_cycle').max()"
      ],
      "execution_count": 25,
      "outputs": []
    },
    {
      "cell_type": "code",
      "metadata": {
        "id": "z6Cd1JFg5JP_"
      },
      "source": [
        "df_gp_id_cycle_max.head()"
      ],
      "execution_count": null,
      "outputs": []
    },
    {
      "cell_type": "markdown",
      "metadata": {
        "id": "PkS_jK5_yL16"
      },
      "source": [
        ""
      ]
    }
  ]
}